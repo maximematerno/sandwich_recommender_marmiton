{
 "cells": [
  {
   "cell_type": "code",
   "execution_count": 1,
   "metadata": {},
   "outputs": [
    {
     "data": {
      "text/html": [
       "<div>\n",
       "<style scoped>\n",
       "    .dataframe tbody tr th:only-of-type {\n",
       "        vertical-align: middle;\n",
       "    }\n",
       "\n",
       "    .dataframe tbody tr th {\n",
       "        vertical-align: top;\n",
       "    }\n",
       "\n",
       "    .dataframe thead th {\n",
       "        text-align: right;\n",
       "    }\n",
       "</style>\n",
       "<table border=\"1\" class=\"dataframe\">\n",
       "  <thead>\n",
       "    <tr style=\"text-align: right;\">\n",
       "      <th></th>\n",
       "      <th>Unnamed: 0</th>\n",
       "      <th>description</th>\n",
       "      <th>duration</th>\n",
       "      <th>title</th>\n",
       "      <th>url</th>\n",
       "      <th>url1</th>\n",
       "    </tr>\n",
       "  </thead>\n",
       "  <tbody>\n",
       "    <tr>\n",
       "      <th>0</th>\n",
       "      <td>0</td>\n",
       "      <td>\\nIngrédients : pain de mie,escalope de poulet...</td>\n",
       "      <td>50 min</td>\n",
       "      <td>Sandwichs américains</td>\n",
       "      <td>/recettes/recette_sandwichs-americains_34637.aspx</td>\n",
       "      <td>https://www.marmiton.org/https://www.marmiton....</td>\n",
       "    </tr>\n",
       "    <tr>\n",
       "      <th>1</th>\n",
       "      <td>1</td>\n",
       "      <td>\\nIngrédients : pain de mie anglais (le super ...</td>\n",
       "      <td>5 min</td>\n",
       "      <td>Club sandwich poulet - bacon</td>\n",
       "      <td>/recettes/recette_club-sandwich-poulet-bacon_4...</td>\n",
       "      <td>https://www.marmiton.org/https://www.marmiton....</td>\n",
       "    </tr>\n",
       "    <tr>\n",
       "      <th>2</th>\n",
       "      <td>2</td>\n",
       "      <td>\\nIngrédients : escalope de poulet coupées en ...</td>\n",
       "      <td>25 min</td>\n",
       "      <td>Poulet mariné en sandwich frais au pain pita</td>\n",
       "      <td>/recettes/recette_poulet-marine-en-sandwich-fr...</td>\n",
       "      <td>https://www.marmiton.org/https://www.marmiton....</td>\n",
       "    </tr>\n",
       "    <tr>\n",
       "      <th>3</th>\n",
       "      <td>3</td>\n",
       "      <td>\\nIngrédients : pain de mie complet,concombre ...</td>\n",
       "      <td>10 min</td>\n",
       "      <td>Sandwichs de concombre</td>\n",
       "      <td>/recettes/recette_sandwichs-de-concombre_63337...</td>\n",
       "      <td>https://www.marmiton.org/https://www.marmiton....</td>\n",
       "    </tr>\n",
       "    <tr>\n",
       "      <th>4</th>\n",
       "      <td>4</td>\n",
       "      <td>\\nIngrédients : Émietté Végétal citron &amp; poivr...</td>\n",
       "      <td>20 min</td>\n",
       "      <td>Club sandwich au coleslaw et à l’Emietté Végét...</td>\n",
       "      <td>/recettes/recette_club-sandwich-au-coleslaw-et...</td>\n",
       "      <td>https://www.marmiton.org/https://www.marmiton....</td>\n",
       "    </tr>\n",
       "  </tbody>\n",
       "</table>\n",
       "</div>"
      ],
      "text/plain": [
       "   Unnamed: 0                                        description duration  \\\n",
       "0           0  \\nIngrédients : pain de mie,escalope de poulet...   50 min   \n",
       "1           1  \\nIngrédients : pain de mie anglais (le super ...    5 min   \n",
       "2           2  \\nIngrédients : escalope de poulet coupées en ...   25 min   \n",
       "3           3  \\nIngrédients : pain de mie complet,concombre ...   10 min   \n",
       "4           4  \\nIngrédients : Émietté Végétal citron & poivr...   20 min   \n",
       "\n",
       "                                               title  \\\n",
       "0                               Sandwichs américains   \n",
       "1                       Club sandwich poulet - bacon   \n",
       "2       Poulet mariné en sandwich frais au pain pita   \n",
       "3                             Sandwichs de concombre   \n",
       "4  Club sandwich au coleslaw et à l’Emietté Végét...   \n",
       "\n",
       "                                                 url  \\\n",
       "0  /recettes/recette_sandwichs-americains_34637.aspx   \n",
       "1  /recettes/recette_club-sandwich-poulet-bacon_4...   \n",
       "2  /recettes/recette_poulet-marine-en-sandwich-fr...   \n",
       "3  /recettes/recette_sandwichs-de-concombre_63337...   \n",
       "4  /recettes/recette_club-sandwich-au-coleslaw-et...   \n",
       "\n",
       "                                                url1  \n",
       "0  https://www.marmiton.org/https://www.marmiton....  \n",
       "1  https://www.marmiton.org/https://www.marmiton....  \n",
       "2  https://www.marmiton.org/https://www.marmiton....  \n",
       "3  https://www.marmiton.org/https://www.marmiton....  \n",
       "4  https://www.marmiton.org/https://www.marmiton....  "
      ]
     },
     "execution_count": 1,
     "metadata": {},
     "output_type": "execute_result"
    }
   ],
   "source": [
    "import pandas as pd \n",
    "\n",
    "df = pd.read_csv('SandwichMarmiton.csv')\n",
    "\n",
    "df.head()"
   ]
  },
  {
   "cell_type": "code",
   "execution_count": 2,
   "metadata": {},
   "outputs": [
    {
     "data": {
      "text/plain": [
       "(135, 6)"
      ]
     },
     "execution_count": 2,
     "metadata": {},
     "output_type": "execute_result"
    }
   ],
   "source": [
    "df.shape"
   ]
  },
  {
   "cell_type": "code",
   "execution_count": 3,
   "metadata": {},
   "outputs": [],
   "source": [
    "# df =df.drop(columns=['url'])"
   ]
  },
  {
   "cell_type": "code",
   "execution_count": 4,
   "metadata": {},
   "outputs": [
    {
     "data": {
      "text/plain": [
       "(135, 6)"
      ]
     },
     "execution_count": 4,
     "metadata": {},
     "output_type": "execute_result"
    }
   ],
   "source": [
    "df.shape"
   ]
  },
  {
   "cell_type": "code",
   "execution_count": 5,
   "metadata": {},
   "outputs": [
    {
     "data": {
      "text/html": [
       "<div>\n",
       "<style scoped>\n",
       "    .dataframe tbody tr th:only-of-type {\n",
       "        vertical-align: middle;\n",
       "    }\n",
       "\n",
       "    .dataframe tbody tr th {\n",
       "        vertical-align: top;\n",
       "    }\n",
       "\n",
       "    .dataframe thead th {\n",
       "        text-align: right;\n",
       "    }\n",
       "</style>\n",
       "<table border=\"1\" class=\"dataframe\">\n",
       "  <thead>\n",
       "    <tr style=\"text-align: right;\">\n",
       "      <th></th>\n",
       "      <th>Unnamed: 0</th>\n",
       "      <th>description</th>\n",
       "      <th>duration</th>\n",
       "      <th>title</th>\n",
       "      <th>url</th>\n",
       "      <th>url1</th>\n",
       "    </tr>\n",
       "  </thead>\n",
       "  <tbody>\n",
       "    <tr>\n",
       "      <th>0</th>\n",
       "      <td>0</td>\n",
       "      <td>\\nIngrédients : pain de mie,escalope de poulet...</td>\n",
       "      <td>50 min</td>\n",
       "      <td>Sandwichs américains</td>\n",
       "      <td>/recettes/recette_sandwichs-americains_34637.aspx</td>\n",
       "      <td>https://www.marmiton.org/https://www.marmiton....</td>\n",
       "    </tr>\n",
       "    <tr>\n",
       "      <th>1</th>\n",
       "      <td>1</td>\n",
       "      <td>\\nIngrédients : pain de mie anglais (le super ...</td>\n",
       "      <td>5 min</td>\n",
       "      <td>Club sandwich poulet - bacon</td>\n",
       "      <td>/recettes/recette_club-sandwich-poulet-bacon_4...</td>\n",
       "      <td>https://www.marmiton.org/https://www.marmiton....</td>\n",
       "    </tr>\n",
       "    <tr>\n",
       "      <th>2</th>\n",
       "      <td>2</td>\n",
       "      <td>\\nIngrédients : escalope de poulet coupées en ...</td>\n",
       "      <td>25 min</td>\n",
       "      <td>Poulet mariné en sandwich frais au pain pita</td>\n",
       "      <td>/recettes/recette_poulet-marine-en-sandwich-fr...</td>\n",
       "      <td>https://www.marmiton.org/https://www.marmiton....</td>\n",
       "    </tr>\n",
       "    <tr>\n",
       "      <th>3</th>\n",
       "      <td>3</td>\n",
       "      <td>\\nIngrédients : pain de mie complet,concombre ...</td>\n",
       "      <td>10 min</td>\n",
       "      <td>Sandwichs de concombre</td>\n",
       "      <td>/recettes/recette_sandwichs-de-concombre_63337...</td>\n",
       "      <td>https://www.marmiton.org/https://www.marmiton....</td>\n",
       "    </tr>\n",
       "    <tr>\n",
       "      <th>4</th>\n",
       "      <td>4</td>\n",
       "      <td>\\nIngrédients : Émietté Végétal citron &amp; poivr...</td>\n",
       "      <td>20 min</td>\n",
       "      <td>Club sandwich au coleslaw et à l’Emietté Végét...</td>\n",
       "      <td>/recettes/recette_club-sandwich-au-coleslaw-et...</td>\n",
       "      <td>https://www.marmiton.org/https://www.marmiton....</td>\n",
       "    </tr>\n",
       "  </tbody>\n",
       "</table>\n",
       "</div>"
      ],
      "text/plain": [
       "   Unnamed: 0                                        description duration  \\\n",
       "0           0  \\nIngrédients : pain de mie,escalope de poulet...   50 min   \n",
       "1           1  \\nIngrédients : pain de mie anglais (le super ...    5 min   \n",
       "2           2  \\nIngrédients : escalope de poulet coupées en ...   25 min   \n",
       "3           3  \\nIngrédients : pain de mie complet,concombre ...   10 min   \n",
       "4           4  \\nIngrédients : Émietté Végétal citron & poivr...   20 min   \n",
       "\n",
       "                                               title  \\\n",
       "0                               Sandwichs américains   \n",
       "1                       Club sandwich poulet - bacon   \n",
       "2       Poulet mariné en sandwich frais au pain pita   \n",
       "3                             Sandwichs de concombre   \n",
       "4  Club sandwich au coleslaw et à l’Emietté Végét...   \n",
       "\n",
       "                                                 url  \\\n",
       "0  /recettes/recette_sandwichs-americains_34637.aspx   \n",
       "1  /recettes/recette_club-sandwich-poulet-bacon_4...   \n",
       "2  /recettes/recette_poulet-marine-en-sandwich-fr...   \n",
       "3  /recettes/recette_sandwichs-de-concombre_63337...   \n",
       "4  /recettes/recette_club-sandwich-au-coleslaw-et...   \n",
       "\n",
       "                                                url1  \n",
       "0  https://www.marmiton.org/https://www.marmiton....  \n",
       "1  https://www.marmiton.org/https://www.marmiton....  \n",
       "2  https://www.marmiton.org/https://www.marmiton....  \n",
       "3  https://www.marmiton.org/https://www.marmiton....  \n",
       "4  https://www.marmiton.org/https://www.marmiton....  "
      ]
     },
     "execution_count": 5,
     "metadata": {},
     "output_type": "execute_result"
    }
   ],
   "source": [
    "df.head()"
   ]
  },
  {
   "cell_type": "code",
   "execution_count": 6,
   "metadata": {},
   "outputs": [],
   "source": [
    "u"
   ]
  },
  {
   "cell_type": "code",
   "execution_count": 7,
   "metadata": {},
   "outputs": [
    {
     "data": {
      "text/plain": [
       "'https://www.marmiton.org/recettes/recette_sandwichs-americains_34637.aspx'"
      ]
     },
     "execution_count": 7,
     "metadata": {},
     "output_type": "execute_result"
    }
   ],
   "source": [
    "df['url2'][0]"
   ]
  },
  {
   "cell_type": "code",
   "execution_count": 8,
   "metadata": {},
   "outputs": [],
   "source": [
    "#import vectorizer and model\n",
    "import pickle \n",
    "import pandas as pd\n",
    "\n",
    "tfidf = pickle.load(open(\"vect_01.pkl\", \"rb\"))\n",
    "nn = pickle.load(open(\"knn_01.pkl\", \"rb\"))"
   ]
  },
  {
   "cell_type": "code",
   "execution_count": 9,
   "metadata": {},
   "outputs": [],
   "source": [
    "def recommend(request):\n",
    "   # Transform\n",
    "    request = pd.Series(request)\n",
    "    request_sparse = tfidf.transform(request)\n",
    "\n",
    "    # Send to df\n",
    "    request_tfidf = pd.DataFrame(request_sparse.todense())\n",
    "\n",
    "    # Return a list of indexes\n",
    "    top5 = nn.kneighbors([request_tfidf][0], n_neighbors=5)[1][0].tolist()\n",
    "    \n",
    "    # Send recomendations to DataFrame\n",
    "    recommendations_df = df.iloc[top5]\n",
    "    \n",
    "    return recommendations_df\n",
    "    "
   ]
  },
  {
   "cell_type": "code",
   "execution_count": 18,
   "metadata": {},
   "outputs": [],
   "source": [
    "fake_input = \"\"\" salade tomate onion dinde \n",
    "   \"\"\""
   ]
  },
  {
   "cell_type": "code",
   "execution_count": 19,
   "metadata": {},
   "outputs": [
    {
     "data": {
      "text/html": [
       "<div>\n",
       "<style scoped>\n",
       "    .dataframe tbody tr th:only-of-type {\n",
       "        vertical-align: middle;\n",
       "    }\n",
       "\n",
       "    .dataframe tbody tr th {\n",
       "        vertical-align: top;\n",
       "    }\n",
       "\n",
       "    .dataframe thead th {\n",
       "        text-align: right;\n",
       "    }\n",
       "</style>\n",
       "<table border=\"1\" class=\"dataframe\">\n",
       "  <thead>\n",
       "    <tr style=\"text-align: right;\">\n",
       "      <th></th>\n",
       "      <th>Unnamed: 0</th>\n",
       "      <th>description</th>\n",
       "      <th>duration</th>\n",
       "      <th>title</th>\n",
       "      <th>url</th>\n",
       "      <th>url1</th>\n",
       "      <th>url2</th>\n",
       "    </tr>\n",
       "  </thead>\n",
       "  <tbody>\n",
       "    <tr>\n",
       "      <th>46</th>\n",
       "      <td>1</td>\n",
       "      <td>\\nIngrédients : pain de mie (les grandes),beur...</td>\n",
       "      <td>25 min</td>\n",
       "      <td>Club sandwich phénoménal</td>\n",
       "      <td>/recettes/recette_club-sandwich-phenomenal_665...</td>\n",
       "      <td>https://www.marmiton.org/https://www.marmiton....</td>\n",
       "      <td>https://www.marmiton.org/recettes/recette_club...</td>\n",
       "    </tr>\n",
       "    <tr>\n",
       "      <th>1</th>\n",
       "      <td>1</td>\n",
       "      <td>\\nIngrédients : pain de mie anglais (le super ...</td>\n",
       "      <td>5 min</td>\n",
       "      <td>Club sandwich poulet - bacon</td>\n",
       "      <td>/recettes/recette_club-sandwich-poulet-bacon_4...</td>\n",
       "      <td>https://www.marmiton.org/https://www.marmiton....</td>\n",
       "      <td>https://www.marmiton.org/recettes/recette_club...</td>\n",
       "    </tr>\n",
       "    <tr>\n",
       "      <th>26</th>\n",
       "      <td>11</td>\n",
       "      <td>\\nIngrédients : pain long ou 1/4 de baguette a...</td>\n",
       "      <td>45 min</td>\n",
       "      <td>Sandwich léger à la dinde</td>\n",
       "      <td>/recettes/recette_sandwich-leger-a-la-dinde_26...</td>\n",
       "      <td>https://www.marmiton.org/https://www.marmiton....</td>\n",
       "      <td>https://www.marmiton.org/recettes/recette_sand...</td>\n",
       "    </tr>\n",
       "    <tr>\n",
       "      <th>85</th>\n",
       "      <td>10</td>\n",
       "      <td>\\nIngrédients : pain complet,beurre,vinaigrett...</td>\n",
       "      <td>10 min</td>\n",
       "      <td>Sandwich complet de l'été</td>\n",
       "      <td>/recettes/recette_sandwich-complet-de-l-ete_58...</td>\n",
       "      <td>https://www.marmiton.org/https://www.marmiton....</td>\n",
       "      <td>https://www.marmiton.org/recettes/recette_sand...</td>\n",
       "    </tr>\n",
       "    <tr>\n",
       "      <th>80</th>\n",
       "      <td>5</td>\n",
       "      <td>\\nIngrédients : pain de mie,tomate,concombre,g...</td>\n",
       "      <td>5 min</td>\n",
       "      <td>Club sandwich à la dinde</td>\n",
       "      <td>/recettes/recette_club-sandwich-a-la-dinde_574...</td>\n",
       "      <td>https://www.marmiton.org/https://www.marmiton....</td>\n",
       "      <td>https://www.marmiton.org/recettes/recette_club...</td>\n",
       "    </tr>\n",
       "  </tbody>\n",
       "</table>\n",
       "</div>"
      ],
      "text/plain": [
       "    Unnamed: 0                                        description duration  \\\n",
       "46           1  \\nIngrédients : pain de mie (les grandes),beur...   25 min   \n",
       "1            1  \\nIngrédients : pain de mie anglais (le super ...    5 min   \n",
       "26          11  \\nIngrédients : pain long ou 1/4 de baguette a...   45 min   \n",
       "85          10  \\nIngrédients : pain complet,beurre,vinaigrett...   10 min   \n",
       "80           5  \\nIngrédients : pain de mie,tomate,concombre,g...    5 min   \n",
       "\n",
       "                           title  \\\n",
       "46      Club sandwich phénoménal   \n",
       "1   Club sandwich poulet - bacon   \n",
       "26     Sandwich léger à la dinde   \n",
       "85     Sandwich complet de l'été   \n",
       "80      Club sandwich à la dinde   \n",
       "\n",
       "                                                  url  \\\n",
       "46  /recettes/recette_club-sandwich-phenomenal_665...   \n",
       "1   /recettes/recette_club-sandwich-poulet-bacon_4...   \n",
       "26  /recettes/recette_sandwich-leger-a-la-dinde_26...   \n",
       "85  /recettes/recette_sandwich-complet-de-l-ete_58...   \n",
       "80  /recettes/recette_club-sandwich-a-la-dinde_574...   \n",
       "\n",
       "                                                 url1  \\\n",
       "46  https://www.marmiton.org/https://www.marmiton....   \n",
       "1   https://www.marmiton.org/https://www.marmiton....   \n",
       "26  https://www.marmiton.org/https://www.marmiton....   \n",
       "85  https://www.marmiton.org/https://www.marmiton....   \n",
       "80  https://www.marmiton.org/https://www.marmiton....   \n",
       "\n",
       "                                                 url2  \n",
       "46  https://www.marmiton.org/recettes/recette_club...  \n",
       "1   https://www.marmiton.org/recettes/recette_club...  \n",
       "26  https://www.marmiton.org/recettes/recette_sand...  \n",
       "85  https://www.marmiton.org/recettes/recette_sand...  \n",
       "80  https://www.marmiton.org/recettes/recette_club...  "
      ]
     },
     "execution_count": 19,
     "metadata": {},
     "output_type": "execute_result"
    }
   ],
   "source": [
    "recommend(fake_input)"
   ]
  },
  {
   "cell_type": "code",
   "execution_count": 20,
   "metadata": {},
   "outputs": [
    {
     "data": {
      "text/plain": [
       "\"\\nIngrédients : blanc de poulet,curry en poudre,moutarde de Dijon,oeuf,mayonnaise,baguette,salade mélangée.Faites cuire les blancs de poulet dans de l'huile. Préparer 4 oeufs cuits durs. Dans un saladier, mettez 2...\\t\\t\""
      ]
     },
     "execution_count": 20,
     "metadata": {},
     "output_type": "execute_result"
    }
   ],
   "source": [
    "df['description'][7]"
   ]
  },
  {
   "cell_type": "code",
   "execution_count": 21,
   "metadata": {},
   "outputs": [
    {
     "data": {
      "text/plain": [
       "'\\nIngrédients : pain de mie sans croutes,escalope de poulet,mayonnaise,salade,tomate coeur de pigeon,lard fumé,fromage,oeuf dur.Faire dorer dans une poêle l’escalope de poulet dans un peu de beurre. Saler, poivrer....\\t\\t'"
      ]
     },
     "execution_count": 21,
     "metadata": {},
     "output_type": "execute_result"
    }
   ],
   "source": [
    "df['description'][35]"
   ]
  },
  {
   "cell_type": "code",
   "execution_count": 22,
   "metadata": {},
   "outputs": [
    {
     "data": {
      "text/plain": [
       "'\\nIngrédients : pain de mie anglais (le super moelleux blanc ou brun),escalope de poulet (ou de dinde extra fine),bacon (poitrine),tomate (en saison),avocat,oeuf dur,salade (laitue, batavia ou iceberg),mayonnaise.Faire...\\t\\t'"
      ]
     },
     "execution_count": 22,
     "metadata": {},
     "output_type": "execute_result"
    }
   ],
   "source": [
    "df['description'][1]"
   ]
  },
  {
   "cell_type": "code",
   "execution_count": 23,
   "metadata": {},
   "outputs": [
    {
     "data": {
      "text/plain": [
       "'\\nIngrédients : pain de mie,escalope de poulet ou de rôti de porc cuit,jambon,tomate,salade,mayonnaise (quantité selon le goût),beurre à tartiner, environ 30 g,moutarde  environ 1,5 cuillère à café.Couper les...\\t\\t'"
      ]
     },
     "execution_count": 23,
     "metadata": {},
     "output_type": "execute_result"
    }
   ],
   "source": [
    "df['description'][0]"
   ]
  },
  {
   "cell_type": "code",
   "execution_count": 24,
   "metadata": {},
   "outputs": [
    {
     "data": {
      "text/plain": [
       "\"\\nIngrédients : pain de mie (les grandes),beurre,ail,oignon,salade (iceberg),tomate,escalope de dinde,mayonnaise,fromage (au choix).Couper la tomate en tout petits dés.Hacher l'oignon et couper les feuilles de salade...\\t\\t\""
      ]
     },
     "execution_count": 24,
     "metadata": {},
     "output_type": "execute_result"
    }
   ],
   "source": [
    "df['description'][46]"
   ]
  },
  {
   "cell_type": "code",
   "execution_count": 25,
   "metadata": {},
   "outputs": [],
   "source": [
    "test = df['title'].str.contains('Sandwich au saumon fumé')"
   ]
  },
  {
   "cell_type": "code",
   "execution_count": 26,
   "metadata": {},
   "outputs": [
    {
     "data": {
      "text/plain": [
       "'Sandwich au saumon fumé'"
      ]
     },
     "execution_count": 26,
     "metadata": {},
     "output_type": "execute_result"
    }
   ],
   "source": [
    "df['title'][6]"
   ]
  },
  {
   "cell_type": "code",
   "execution_count": 27,
   "metadata": {},
   "outputs": [
    {
     "data": {
      "text/plain": [
       "'\\nIngrédients : pain de mie carré,saumon fumé,salade,fromage blanc,jus de citron,poivre,sel.Préparer la sauce: bien mélanger le fromage blanc et le jus de citron. Saler et poivrer.Sur chaque tranche de pain de mie,...\\t\\t'"
      ]
     },
     "execution_count": 27,
     "metadata": {},
     "output_type": "execute_result"
    }
   ],
   "source": [
    "df['description'][6]"
   ]
  },
  {
   "cell_type": "code",
   "execution_count": 28,
   "metadata": {},
   "outputs": [
    {
     "data": {
      "text/plain": [
       "\"Sandwich complet de l'été\""
      ]
     },
     "execution_count": 28,
     "metadata": {},
     "output_type": "execute_result"
    }
   ],
   "source": [
    "df['title'][85]"
   ]
  },
  {
   "cell_type": "code",
   "execution_count": 29,
   "metadata": {},
   "outputs": [],
   "source": [
    "test = df['title'].str.contains('le sandwich qui tabasse')"
   ]
  },
  {
   "cell_type": "code",
   "execution_count": 30,
   "metadata": {},
   "outputs": [
    {
     "data": {
      "text/html": [
       "<div>\n",
       "<style scoped>\n",
       "    .dataframe tbody tr th:only-of-type {\n",
       "        vertical-align: middle;\n",
       "    }\n",
       "\n",
       "    .dataframe tbody tr th {\n",
       "        vertical-align: top;\n",
       "    }\n",
       "\n",
       "    .dataframe thead th {\n",
       "        text-align: right;\n",
       "    }\n",
       "</style>\n",
       "<table border=\"1\" class=\"dataframe\">\n",
       "  <thead>\n",
       "    <tr style=\"text-align: right;\">\n",
       "      <th></th>\n",
       "      <th>Unnamed: 0</th>\n",
       "      <th>description</th>\n",
       "      <th>duration</th>\n",
       "      <th>title</th>\n",
       "      <th>url</th>\n",
       "      <th>url1</th>\n",
       "      <th>url2</th>\n",
       "    </tr>\n",
       "  </thead>\n",
       "  <tbody>\n",
       "    <tr>\n",
       "      <th>58</th>\n",
       "      <td>13</td>\n",
       "      <td>\\nIngrédients : pain de mie,jambon cru,jambon ...</td>\n",
       "      <td>7 min</td>\n",
       "      <td>le sandwich qui tabasse</td>\n",
       "      <td>/recettes/recette_le-sandwich-qui-tabasse_2286...</td>\n",
       "      <td>https://www.marmiton.org/https://www.marmiton....</td>\n",
       "      <td>https://www.marmiton.org/recettes/recette_le-s...</td>\n",
       "    </tr>\n",
       "  </tbody>\n",
       "</table>\n",
       "</div>"
      ],
      "text/plain": [
       "    Unnamed: 0                                        description duration  \\\n",
       "58          13  \\nIngrédients : pain de mie,jambon cru,jambon ...    7 min   \n",
       "\n",
       "                      title  \\\n",
       "58  le sandwich qui tabasse   \n",
       "\n",
       "                                                  url  \\\n",
       "58  /recettes/recette_le-sandwich-qui-tabasse_2286...   \n",
       "\n",
       "                                                 url1  \\\n",
       "58  https://www.marmiton.org/https://www.marmiton....   \n",
       "\n",
       "                                                 url2  \n",
       "58  https://www.marmiton.org/recettes/recette_le-s...  "
      ]
     },
     "execution_count": 30,
     "metadata": {},
     "output_type": "execute_result"
    }
   ],
   "source": [
    "df[test]"
   ]
  },
  {
   "cell_type": "code",
   "execution_count": 31,
   "metadata": {},
   "outputs": [
    {
     "data": {
      "text/plain": [
       "'\\nIngrédients : pain de mie,jambon cru,jambon cuit,tomate,parmesan,mayonnaise.Passer les tranches de pain de mie au grille-pain, couper des petites tranches de parmesan. Quand le pain est prêt enduire de mayonnaise les...\\t\\t'"
      ]
     },
     "execution_count": 31,
     "metadata": {},
     "output_type": "execute_result"
    }
   ],
   "source": [
    "df['description'][58]"
   ]
  },
  {
   "cell_type": "code",
   "execution_count": 32,
   "metadata": {},
   "outputs": [],
   "source": [
    "test = df['title'].str.contains('Club sandwich fumé au romarin de Nastasia Thiebaut Lyard')"
   ]
  },
  {
   "cell_type": "code",
   "execution_count": 33,
   "metadata": {},
   "outputs": [
    {
     "data": {
      "text/html": [
       "<div>\n",
       "<style scoped>\n",
       "    .dataframe tbody tr th:only-of-type {\n",
       "        vertical-align: middle;\n",
       "    }\n",
       "\n",
       "    .dataframe tbody tr th {\n",
       "        vertical-align: top;\n",
       "    }\n",
       "\n",
       "    .dataframe thead th {\n",
       "        text-align: right;\n",
       "    }\n",
       "</style>\n",
       "<table border=\"1\" class=\"dataframe\">\n",
       "  <thead>\n",
       "    <tr style=\"text-align: right;\">\n",
       "      <th></th>\n",
       "      <th>Unnamed: 0</th>\n",
       "      <th>description</th>\n",
       "      <th>duration</th>\n",
       "      <th>title</th>\n",
       "      <th>url</th>\n",
       "      <th>url1</th>\n",
       "      <th>url2</th>\n",
       "    </tr>\n",
       "  </thead>\n",
       "  <tbody>\n",
       "    <tr>\n",
       "      <th>132</th>\n",
       "      <td>12</td>\n",
       "      <td>\\nIngrédients : pain de mie,jaune d'oeuf,filet...</td>\n",
       "      <td>25 min</td>\n",
       "      <td>Club sandwich fumé au romarin de Nastasia Thie...</td>\n",
       "      <td>/recettes/recette_club-sandwich-fume-au-romari...</td>\n",
       "      <td>https://www.marmiton.org/https://www.marmiton....</td>\n",
       "      <td>https://www.marmiton.org/recettes/recette_club...</td>\n",
       "    </tr>\n",
       "  </tbody>\n",
       "</table>\n",
       "</div>"
      ],
      "text/plain": [
       "     Unnamed: 0                                        description duration  \\\n",
       "132          12  \\nIngrédients : pain de mie,jaune d'oeuf,filet...   25 min   \n",
       "\n",
       "                                                 title  \\\n",
       "132  Club sandwich fumé au romarin de Nastasia Thie...   \n",
       "\n",
       "                                                   url  \\\n",
       "132  /recettes/recette_club-sandwich-fume-au-romari...   \n",
       "\n",
       "                                                  url1  \\\n",
       "132  https://www.marmiton.org/https://www.marmiton....   \n",
       "\n",
       "                                                  url2  \n",
       "132  https://www.marmiton.org/recettes/recette_club...  "
      ]
     },
     "execution_count": 33,
     "metadata": {},
     "output_type": "execute_result"
    }
   ],
   "source": [
    "df[test]"
   ]
  },
  {
   "cell_type": "code",
   "execution_count": 34,
   "metadata": {},
   "outputs": [
    {
     "data": {
      "text/plain": [
       "\"\\nIngrédients : pain de mie,jaune d'oeuf,filet de poulet,tomate,sucrine,oeuf dur,pancetta,moutarde,huile neutre (type pépin ou tourneso),sel,poivre,romarin,pain de mie,jaune d'oeuf,filet de poulet,tomate,sucrine,oeuf...\\t\\t\""
      ]
     },
     "execution_count": 34,
     "metadata": {},
     "output_type": "execute_result"
    }
   ],
   "source": [
    "df['description'][132]"
   ]
  },
  {
   "cell_type": "code",
   "execution_count": 35,
   "metadata": {},
   "outputs": [],
   "source": [
    "test = df['title'].str.contains(\"Sandwich tricolore au boeuf et à l'avocat\")\n"
   ]
  },
  {
   "cell_type": "code",
   "execution_count": 36,
   "metadata": {},
   "outputs": [
    {
     "data": {
      "text/html": [
       "<div>\n",
       "<style scoped>\n",
       "    .dataframe tbody tr th:only-of-type {\n",
       "        vertical-align: middle;\n",
       "    }\n",
       "\n",
       "    .dataframe tbody tr th {\n",
       "        vertical-align: top;\n",
       "    }\n",
       "\n",
       "    .dataframe thead th {\n",
       "        text-align: right;\n",
       "    }\n",
       "</style>\n",
       "<table border=\"1\" class=\"dataframe\">\n",
       "  <thead>\n",
       "    <tr style=\"text-align: right;\">\n",
       "      <th></th>\n",
       "      <th>Unnamed: 0</th>\n",
       "      <th>description</th>\n",
       "      <th>duration</th>\n",
       "      <th>title</th>\n",
       "      <th>url</th>\n",
       "      <th>url1</th>\n",
       "      <th>url2</th>\n",
       "    </tr>\n",
       "  </thead>\n",
       "  <tbody>\n",
       "    <tr>\n",
       "      <th>130</th>\n",
       "      <td>10</td>\n",
       "      <td>\\nIngrédients : baguette,rôti de boeuf cuit,av...</td>\n",
       "      <td>10 min</td>\n",
       "      <td>Sandwich tricolore au boeuf et à l'avocat</td>\n",
       "      <td>/recettes/recette_sandwich-tricolore-boeuf-avo...</td>\n",
       "      <td>https://www.marmiton.org/https://www.marmiton....</td>\n",
       "      <td>https://www.marmiton.org/recettes/recette_sand...</td>\n",
       "    </tr>\n",
       "  </tbody>\n",
       "</table>\n",
       "</div>"
      ],
      "text/plain": [
       "     Unnamed: 0                                        description duration  \\\n",
       "130          10  \\nIngrédients : baguette,rôti de boeuf cuit,av...   10 min   \n",
       "\n",
       "                                         title  \\\n",
       "130  Sandwich tricolore au boeuf et à l'avocat   \n",
       "\n",
       "                                                   url  \\\n",
       "130  /recettes/recette_sandwich-tricolore-boeuf-avo...   \n",
       "\n",
       "                                                  url1  \\\n",
       "130  https://www.marmiton.org/https://www.marmiton....   \n",
       "\n",
       "                                                  url2  \n",
       "130  https://www.marmiton.org/recettes/recette_sand...  "
      ]
     },
     "execution_count": 36,
     "metadata": {},
     "output_type": "execute_result"
    }
   ],
   "source": [
    "df[test]"
   ]
  },
  {
   "cell_type": "code",
   "execution_count": 37,
   "metadata": {},
   "outputs": [
    {
     "data": {
      "text/plain": [
       "\"\\nIngrédients : baguette,rôti de boeuf cuit,avocat,curry,salade verte.Ouvrir la baguette en deux.Mettre quelques feuilles de salade émincée. Ajouter dessus quelques morceaux d'avocat.3è couche : du rôti de boeuf...\\t\\t\""
      ]
     },
     "execution_count": 37,
     "metadata": {},
     "output_type": "execute_result"
    }
   ],
   "source": [
    "df['description'][130]"
   ]
  },
  {
   "cell_type": "code",
   "execution_count": 38,
   "metadata": {},
   "outputs": [],
   "source": [
    "test = df['title'].str.contains(\"Le sandwich de Jérémy\")\n",
    "\n"
   ]
  },
  {
   "cell_type": "code",
   "execution_count": 39,
   "metadata": {},
   "outputs": [
    {
     "data": {
      "text/html": [
       "<div>\n",
       "<style scoped>\n",
       "    .dataframe tbody tr th:only-of-type {\n",
       "        vertical-align: middle;\n",
       "    }\n",
       "\n",
       "    .dataframe tbody tr th {\n",
       "        vertical-align: top;\n",
       "    }\n",
       "\n",
       "    .dataframe thead th {\n",
       "        text-align: right;\n",
       "    }\n",
       "</style>\n",
       "<table border=\"1\" class=\"dataframe\">\n",
       "  <thead>\n",
       "    <tr style=\"text-align: right;\">\n",
       "      <th></th>\n",
       "      <th>Unnamed: 0</th>\n",
       "      <th>description</th>\n",
       "      <th>duration</th>\n",
       "      <th>title</th>\n",
       "      <th>url</th>\n",
       "      <th>url1</th>\n",
       "      <th>url2</th>\n",
       "    </tr>\n",
       "  </thead>\n",
       "  <tbody>\n",
       "    <tr>\n",
       "      <th>88</th>\n",
       "      <td>13</td>\n",
       "      <td>\\nIngrédients : tortilla de maïs,escalope de d...</td>\n",
       "      <td>30 min</td>\n",
       "      <td>Le sandwich de Jérémy  (tortillas au poulet)</td>\n",
       "      <td>/recettes/recette_le-sandwich-de-jeremy-tortil...</td>\n",
       "      <td>https://www.marmiton.org/https://www.marmiton....</td>\n",
       "      <td>https://www.marmiton.org/recettes/recette_le-s...</td>\n",
       "    </tr>\n",
       "  </tbody>\n",
       "</table>\n",
       "</div>"
      ],
      "text/plain": [
       "    Unnamed: 0                                        description duration  \\\n",
       "88          13  \\nIngrédients : tortilla de maïs,escalope de d...   30 min   \n",
       "\n",
       "                                           title  \\\n",
       "88  Le sandwich de Jérémy  (tortillas au poulet)   \n",
       "\n",
       "                                                  url  \\\n",
       "88  /recettes/recette_le-sandwich-de-jeremy-tortil...   \n",
       "\n",
       "                                                 url1  \\\n",
       "88  https://www.marmiton.org/https://www.marmiton....   \n",
       "\n",
       "                                                 url2  \n",
       "88  https://www.marmiton.org/recettes/recette_le-s...  "
      ]
     },
     "execution_count": 39,
     "metadata": {},
     "output_type": "execute_result"
    }
   ],
   "source": [
    "df[test]"
   ]
  },
  {
   "cell_type": "code",
   "execution_count": 40,
   "metadata": {},
   "outputs": [
    {
     "data": {
      "text/plain": [
       "\"\\nIngrédients : tortilla de maïs,escalope de dinde ou poulet,échalote,olive verte,cornichon,moutarde,ketchup,ciboulette,huile d'olive,curry,jus de citron,crème fraîche légère et liquide.Faire revenir les...\\t\\t\""
      ]
     },
     "execution_count": 40,
     "metadata": {},
     "output_type": "execute_result"
    }
   ],
   "source": [
    "df['description'][88]"
   ]
  },
  {
   "cell_type": "code",
   "execution_count": 41,
   "metadata": {},
   "outputs": [
    {
     "data": {
      "text/html": [
       "<div>\n",
       "<style scoped>\n",
       "    .dataframe tbody tr th:only-of-type {\n",
       "        vertical-align: middle;\n",
       "    }\n",
       "\n",
       "    .dataframe tbody tr th {\n",
       "        vertical-align: top;\n",
       "    }\n",
       "\n",
       "    .dataframe thead th {\n",
       "        text-align: right;\n",
       "    }\n",
       "</style>\n",
       "<table border=\"1\" class=\"dataframe\">\n",
       "  <thead>\n",
       "    <tr style=\"text-align: right;\">\n",
       "      <th></th>\n",
       "      <th>Unnamed: 0</th>\n",
       "      <th>description</th>\n",
       "      <th>duration</th>\n",
       "      <th>title</th>\n",
       "      <th>url</th>\n",
       "      <th>url1</th>\n",
       "      <th>url2</th>\n",
       "    </tr>\n",
       "  </thead>\n",
       "  <tbody>\n",
       "    <tr>\n",
       "      <th>27</th>\n",
       "      <td>12</td>\n",
       "      <td>\\nIngrédients : pain de mie sans croûte,pousse...</td>\n",
       "      <td>25 min</td>\n",
       "      <td>Sandwichs triangles fromage frais moutarde et ...</td>\n",
       "      <td>/recettes/recette_sandwichs-triangles-fromage-...</td>\n",
       "      <td>https://www.marmiton.org/https://www.marmiton....</td>\n",
       "      <td>https://www.marmiton.org/recettes/recette_sand...</td>\n",
       "    </tr>\n",
       "  </tbody>\n",
       "</table>\n",
       "</div>"
      ],
      "text/plain": [
       "    Unnamed: 0                                        description duration  \\\n",
       "27          12  \\nIngrédients : pain de mie sans croûte,pousse...   25 min   \n",
       "\n",
       "                                                title  \\\n",
       "27  Sandwichs triangles fromage frais moutarde et ...   \n",
       "\n",
       "                                                  url  \\\n",
       "27  /recettes/recette_sandwichs-triangles-fromage-...   \n",
       "\n",
       "                                                 url1  \\\n",
       "27  https://www.marmiton.org/https://www.marmiton....   \n",
       "\n",
       "                                                 url2  \n",
       "27  https://www.marmiton.org/recettes/recette_sand...  "
      ]
     },
     "execution_count": 41,
     "metadata": {},
     "output_type": "execute_result"
    }
   ],
   "source": [
    "test = df['title'].str.contains(\"Sandwichs triangles fromage frais moutarde et épinard\")\n",
    "df[test]"
   ]
  },
  {
   "cell_type": "code",
   "execution_count": 42,
   "metadata": {},
   "outputs": [
    {
     "data": {
      "text/plain": [
       "\"\\nIngrédients : pain de mie sans croûte,pousses d'épinard,moutarde forte,fromage frais.Préchauffer le four à 180°C (thermostat 6).Déposer les tranches de pain de mie sur une plaque à four et enfourner pour 2 à 5...\\t\\t\""
      ]
     },
     "execution_count": 42,
     "metadata": {},
     "output_type": "execute_result"
    }
   ],
   "source": [
    "df['description'][27]"
   ]
  },
  {
   "cell_type": "code",
   "execution_count": 43,
   "metadata": {},
   "outputs": [
    {
     "data": {
      "text/html": [
       "<div>\n",
       "<style scoped>\n",
       "    .dataframe tbody tr th:only-of-type {\n",
       "        vertical-align: middle;\n",
       "    }\n",
       "\n",
       "    .dataframe tbody tr th {\n",
       "        vertical-align: top;\n",
       "    }\n",
       "\n",
       "    .dataframe thead th {\n",
       "        text-align: right;\n",
       "    }\n",
       "</style>\n",
       "<table border=\"1\" class=\"dataframe\">\n",
       "  <thead>\n",
       "    <tr style=\"text-align: right;\">\n",
       "      <th></th>\n",
       "      <th>Unnamed: 0</th>\n",
       "      <th>description</th>\n",
       "      <th>duration</th>\n",
       "      <th>title</th>\n",
       "      <th>url</th>\n",
       "      <th>url1</th>\n",
       "      <th>url2</th>\n",
       "    </tr>\n",
       "  </thead>\n",
       "  <tbody>\n",
       "    <tr>\n",
       "      <th>75</th>\n",
       "      <td>0</td>\n",
       "      <td>\\nIngrédients : pain de mie tranché aux céréal...</td>\n",
       "      <td>30 min</td>\n",
       "      <td>Sandwichs frais pour l'été</td>\n",
       "      <td>/recettes/recette_sandwichs-frais-pour-l-ete_4...</td>\n",
       "      <td>https://www.marmiton.org/https://www.marmiton....</td>\n",
       "      <td>https://www.marmiton.org/recettes/recette_sand...</td>\n",
       "    </tr>\n",
       "  </tbody>\n",
       "</table>\n",
       "</div>"
      ],
      "text/plain": [
       "    Unnamed: 0                                        description duration  \\\n",
       "75           0  \\nIngrédients : pain de mie tranché aux céréal...   30 min   \n",
       "\n",
       "                         title  \\\n",
       "75  Sandwichs frais pour l'été   \n",
       "\n",
       "                                                  url  \\\n",
       "75  /recettes/recette_sandwichs-frais-pour-l-ete_4...   \n",
       "\n",
       "                                                 url1  \\\n",
       "75  https://www.marmiton.org/https://www.marmiton....   \n",
       "\n",
       "                                                 url2  \n",
       "75  https://www.marmiton.org/recettes/recette_sand...  "
      ]
     },
     "execution_count": 43,
     "metadata": {},
     "output_type": "execute_result"
    }
   ],
   "source": [
    "test = df['title'].str.contains(\"Sandwichs frais pour l'été\")\n",
    "df[test]"
   ]
  },
  {
   "cell_type": "code",
   "execution_count": 44,
   "metadata": {},
   "outputs": [
    {
     "data": {
      "text/plain": [
       "'\\nIngrédients : pain de mie tranché aux céréales,laitue,concombre,tomate,fromage frais à tartiner,ciboulette /basilic,poivre,blanc de poulet où 4 tranches de blancs de poulet,crème fraîche,raisins secs,curry,crème...\\t\\t'"
      ]
     },
     "execution_count": 44,
     "metadata": {},
     "output_type": "execute_result"
    }
   ],
   "source": [
    "df['description'][75]"
   ]
  },
  {
   "cell_type": "code",
   "execution_count": 45,
   "metadata": {},
   "outputs": [
    {
     "name": "stdout",
     "output_type": "stream",
     "text": [
      "     Unnamed: 0                                        description duration  \\\n",
      "102          12  \\nIngrédients : pain de mie complet,steak hach...   15 min   \n",
      "\n",
      "                                                title  \\\n",
      "102  Sandwich bon et rapide \"le hummer\" avec 3 étages   \n",
      "\n",
      "                                                   url  \\\n",
      "102  /recettes/recette_sandwich-bon-et-rapide-le-hu...   \n",
      "\n",
      "                                                  url1  \\\n",
      "102  https://www.marmiton.org/https://www.marmiton....   \n",
      "\n",
      "                                                  url2  \n",
      "102  https://www.marmiton.org/recettes/recette_sand...  \n"
     ]
    },
    {
     "data": {
      "text/plain": [
       "'\\nIngrédients : pain de mie tranché aux céréales,laitue,concombre,tomate,fromage frais à tartiner,ciboulette /basilic,poivre,blanc de poulet où 4 tranches de blancs de poulet,crème fraîche,raisins secs,curry,crème...\\t\\t'"
      ]
     },
     "execution_count": 45,
     "metadata": {},
     "output_type": "execute_result"
    }
   ],
   "source": [
    "test = df['title'].str.contains(\"Sandwich bon et rapide\")\n",
    "print(df[test])\n",
    "df['description'][75]"
   ]
  },
  {
   "cell_type": "code",
   "execution_count": null,
   "metadata": {},
   "outputs": [],
   "source": []
  },
  {
   "cell_type": "code",
   "execution_count": null,
   "metadata": {},
   "outputs": [],
   "source": []
  }
 ],
 "metadata": {
  "kernelspec": {
   "display_name": "Python 3",
   "language": "python",
   "name": "python3"
  },
  "language_info": {
   "codemirror_mode": {
    "name": "ipython",
    "version": 3
   },
   "file_extension": ".py",
   "mimetype": "text/x-python",
   "name": "python",
   "nbconvert_exporter": "python",
   "pygments_lexer": "ipython3",
   "version": "3.7.3"
  }
 },
 "nbformat": 4,
 "nbformat_minor": 2
}
