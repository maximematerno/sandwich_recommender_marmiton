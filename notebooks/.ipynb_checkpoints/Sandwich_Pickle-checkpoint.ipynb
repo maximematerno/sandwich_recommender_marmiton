{
 "cells": [
  {
   "cell_type": "code",
   "execution_count": 1,
   "metadata": {},
   "outputs": [
    {
     "data": {
      "text/html": [
       "<div>\n",
       "<style scoped>\n",
       "    .dataframe tbody tr th:only-of-type {\n",
       "        vertical-align: middle;\n",
       "    }\n",
       "\n",
       "    .dataframe tbody tr th {\n",
       "        vertical-align: top;\n",
       "    }\n",
       "\n",
       "    .dataframe thead th {\n",
       "        text-align: right;\n",
       "    }\n",
       "</style>\n",
       "<table border=\"1\" class=\"dataframe\">\n",
       "  <thead>\n",
       "    <tr style=\"text-align: right;\">\n",
       "      <th></th>\n",
       "      <th>Unnamed: 0</th>\n",
       "      <th>description</th>\n",
       "      <th>duration</th>\n",
       "      <th>title</th>\n",
       "      <th>url</th>\n",
       "      <th>url1</th>\n",
       "    </tr>\n",
       "  </thead>\n",
       "  <tbody>\n",
       "    <tr>\n",
       "      <th>0</th>\n",
       "      <td>0</td>\n",
       "      <td>\\nIngrédients : pain de mie,escalope de poulet...</td>\n",
       "      <td>50 min</td>\n",
       "      <td>Sandwichs américains</td>\n",
       "      <td>/recettes/recette_sandwichs-americains_34637.aspx</td>\n",
       "      <td>https://www.marmiton.org/https://www.marmiton....</td>\n",
       "    </tr>\n",
       "    <tr>\n",
       "      <th>1</th>\n",
       "      <td>1</td>\n",
       "      <td>\\nIngrédients : pain de mie anglais (le super ...</td>\n",
       "      <td>5 min</td>\n",
       "      <td>Club sandwich poulet - bacon</td>\n",
       "      <td>/recettes/recette_club-sandwich-poulet-bacon_4...</td>\n",
       "      <td>https://www.marmiton.org/https://www.marmiton....</td>\n",
       "    </tr>\n",
       "    <tr>\n",
       "      <th>2</th>\n",
       "      <td>2</td>\n",
       "      <td>\\nIngrédients : escalope de poulet coupées en ...</td>\n",
       "      <td>25 min</td>\n",
       "      <td>Poulet mariné en sandwich frais au pain pita</td>\n",
       "      <td>/recettes/recette_poulet-marine-en-sandwich-fr...</td>\n",
       "      <td>https://www.marmiton.org/https://www.marmiton....</td>\n",
       "    </tr>\n",
       "    <tr>\n",
       "      <th>3</th>\n",
       "      <td>3</td>\n",
       "      <td>\\nIngrédients : pain de mie complet,concombre ...</td>\n",
       "      <td>10 min</td>\n",
       "      <td>Sandwichs de concombre</td>\n",
       "      <td>/recettes/recette_sandwichs-de-concombre_63337...</td>\n",
       "      <td>https://www.marmiton.org/https://www.marmiton....</td>\n",
       "    </tr>\n",
       "    <tr>\n",
       "      <th>4</th>\n",
       "      <td>4</td>\n",
       "      <td>\\nIngrédients : Émietté Végétal citron &amp; poivr...</td>\n",
       "      <td>20 min</td>\n",
       "      <td>Club sandwich au coleslaw et à l’Emietté Végét...</td>\n",
       "      <td>/recettes/recette_club-sandwich-au-coleslaw-et...</td>\n",
       "      <td>https://www.marmiton.org/https://www.marmiton....</td>\n",
       "    </tr>\n",
       "  </tbody>\n",
       "</table>\n",
       "</div>"
      ],
      "text/plain": [
       "   Unnamed: 0                                        description duration  \\\n",
       "0           0  \\nIngrédients : pain de mie,escalope de poulet...   50 min   \n",
       "1           1  \\nIngrédients : pain de mie anglais (le super ...    5 min   \n",
       "2           2  \\nIngrédients : escalope de poulet coupées en ...   25 min   \n",
       "3           3  \\nIngrédients : pain de mie complet,concombre ...   10 min   \n",
       "4           4  \\nIngrédients : Émietté Végétal citron & poivr...   20 min   \n",
       "\n",
       "                                               title  \\\n",
       "0                               Sandwichs américains   \n",
       "1                       Club sandwich poulet - bacon   \n",
       "2       Poulet mariné en sandwich frais au pain pita   \n",
       "3                             Sandwichs de concombre   \n",
       "4  Club sandwich au coleslaw et à l’Emietté Végét...   \n",
       "\n",
       "                                                 url  \\\n",
       "0  /recettes/recette_sandwichs-americains_34637.aspx   \n",
       "1  /recettes/recette_club-sandwich-poulet-bacon_4...   \n",
       "2  /recettes/recette_poulet-marine-en-sandwich-fr...   \n",
       "3  /recettes/recette_sandwichs-de-concombre_63337...   \n",
       "4  /recettes/recette_club-sandwich-au-coleslaw-et...   \n",
       "\n",
       "                                                url1  \n",
       "0  https://www.marmiton.org/https://www.marmiton....  \n",
       "1  https://www.marmiton.org/https://www.marmiton....  \n",
       "2  https://www.marmiton.org/https://www.marmiton....  \n",
       "3  https://www.marmiton.org/https://www.marmiton....  \n",
       "4  https://www.marmiton.org/https://www.marmiton....  "
      ]
     },
     "execution_count": 1,
     "metadata": {},
     "output_type": "execute_result"
    }
   ],
   "source": [
    "import pandas as pd \n",
    "\n",
    "df = pd.read_csv('SandwichMarmiton.csv')\n",
    "\n",
    "df.head()"
   ]
  },
  {
   "cell_type": "code",
   "execution_count": 2,
   "metadata": {},
   "outputs": [
    {
     "data": {
      "text/plain": [
       "(135, 6)"
      ]
     },
     "execution_count": 2,
     "metadata": {},
     "output_type": "execute_result"
    }
   ],
   "source": [
    "df.shape"
   ]
  },
  {
   "cell_type": "code",
   "execution_count": 7,
   "metadata": {},
   "outputs": [],
   "source": [
    "df =df.drop(columns=['url'])"
   ]
  },
  {
   "cell_type": "code",
   "execution_count": 8,
   "metadata": {},
   "outputs": [
    {
     "data": {
      "text/plain": [
       "(135, 5)"
      ]
     },
     "execution_count": 8,
     "metadata": {},
     "output_type": "execute_result"
    }
   ],
   "source": [
    "df.shape"
   ]
  },
  {
   "cell_type": "code",
   "execution_count": 9,
   "metadata": {},
   "outputs": [
    {
     "data": {
      "text/html": [
       "<div>\n",
       "<style scoped>\n",
       "    .dataframe tbody tr th:only-of-type {\n",
       "        vertical-align: middle;\n",
       "    }\n",
       "\n",
       "    .dataframe tbody tr th {\n",
       "        vertical-align: top;\n",
       "    }\n",
       "\n",
       "    .dataframe thead th {\n",
       "        text-align: right;\n",
       "    }\n",
       "</style>\n",
       "<table border=\"1\" class=\"dataframe\">\n",
       "  <thead>\n",
       "    <tr style=\"text-align: right;\">\n",
       "      <th></th>\n",
       "      <th>Unnamed: 0</th>\n",
       "      <th>description</th>\n",
       "      <th>duration</th>\n",
       "      <th>title</th>\n",
       "      <th>url1</th>\n",
       "    </tr>\n",
       "  </thead>\n",
       "  <tbody>\n",
       "    <tr>\n",
       "      <th>0</th>\n",
       "      <td>0</td>\n",
       "      <td>\\nIngrédients : pain de mie,escalope de poulet...</td>\n",
       "      <td>50 min</td>\n",
       "      <td>Sandwichs américains</td>\n",
       "      <td>https://www.marmiton.org/https://www.marmiton....</td>\n",
       "    </tr>\n",
       "    <tr>\n",
       "      <th>1</th>\n",
       "      <td>1</td>\n",
       "      <td>\\nIngrédients : pain de mie anglais (le super ...</td>\n",
       "      <td>5 min</td>\n",
       "      <td>Club sandwich poulet - bacon</td>\n",
       "      <td>https://www.marmiton.org/https://www.marmiton....</td>\n",
       "    </tr>\n",
       "    <tr>\n",
       "      <th>2</th>\n",
       "      <td>2</td>\n",
       "      <td>\\nIngrédients : escalope de poulet coupées en ...</td>\n",
       "      <td>25 min</td>\n",
       "      <td>Poulet mariné en sandwich frais au pain pita</td>\n",
       "      <td>https://www.marmiton.org/https://www.marmiton....</td>\n",
       "    </tr>\n",
       "    <tr>\n",
       "      <th>3</th>\n",
       "      <td>3</td>\n",
       "      <td>\\nIngrédients : pain de mie complet,concombre ...</td>\n",
       "      <td>10 min</td>\n",
       "      <td>Sandwichs de concombre</td>\n",
       "      <td>https://www.marmiton.org/https://www.marmiton....</td>\n",
       "    </tr>\n",
       "    <tr>\n",
       "      <th>4</th>\n",
       "      <td>4</td>\n",
       "      <td>\\nIngrédients : Émietté Végétal citron &amp; poivr...</td>\n",
       "      <td>20 min</td>\n",
       "      <td>Club sandwich au coleslaw et à l’Emietté Végét...</td>\n",
       "      <td>https://www.marmiton.org/https://www.marmiton....</td>\n",
       "    </tr>\n",
       "  </tbody>\n",
       "</table>\n",
       "</div>"
      ],
      "text/plain": [
       "   Unnamed: 0                                        description duration  \\\n",
       "0           0  \\nIngrédients : pain de mie,escalope de poulet...   50 min   \n",
       "1           1  \\nIngrédients : pain de mie anglais (le super ...    5 min   \n",
       "2           2  \\nIngrédients : escalope de poulet coupées en ...   25 min   \n",
       "3           3  \\nIngrédients : pain de mie complet,concombre ...   10 min   \n",
       "4           4  \\nIngrédients : Émietté Végétal citron & poivr...   20 min   \n",
       "\n",
       "                                               title  \\\n",
       "0                               Sandwichs américains   \n",
       "1                       Club sandwich poulet - bacon   \n",
       "2       Poulet mariné en sandwich frais au pain pita   \n",
       "3                             Sandwichs de concombre   \n",
       "4  Club sandwich au coleslaw et à l’Emietté Végét...   \n",
       "\n",
       "                                                url1  \n",
       "0  https://www.marmiton.org/https://www.marmiton....  \n",
       "1  https://www.marmiton.org/https://www.marmiton....  \n",
       "2  https://www.marmiton.org/https://www.marmiton....  \n",
       "3  https://www.marmiton.org/https://www.marmiton....  \n",
       "4  https://www.marmiton.org/https://www.marmiton....  "
      ]
     },
     "execution_count": 9,
     "metadata": {},
     "output_type": "execute_result"
    }
   ],
   "source": [
    "df.head()"
   ]
  },
  {
   "cell_type": "code",
   "execution_count": 10,
   "metadata": {},
   "outputs": [],
   "source": [
    "#import vectorizer and model\n",
    "import pickle \n",
    "import pandas as pd\n",
    "\n",
    "tfidf = pickle.load(open(\"vect_01.pkl\", \"rb\"))\n",
    "nn = pickle.load(open(\"knn_01.pkl\", \"rb\"))"
   ]
  },
  {
   "cell_type": "code",
   "execution_count": 11,
   "metadata": {},
   "outputs": [],
   "source": [
    "def recommend(request):\n",
    "   # Transform\n",
    "    request = pd.Series(request)\n",
    "    request_sparse = tfidf.transform(request)\n",
    "\n",
    "    # Send to df\n",
    "    request_tfidf = pd.DataFrame(request_sparse.todense())\n",
    "\n",
    "    # Return a list of indexes\n",
    "    top5 = nn.kneighbors([request_tfidf][0], n_neighbors=5)[1][0].tolist()\n",
    "    \n",
    "    # Send recomendations to DataFrame\n",
    "    recommendations_df = df.iloc[top5]\n",
    "    \n",
    "    return recommendations_df\n",
    "    "
   ]
  },
  {
   "cell_type": "code",
   "execution_count": 12,
   "metadata": {},
   "outputs": [],
   "source": [
    "fake_input = \"\"\" pain, oeuf, fromage, avocat, poulet, tomate, oignons   \"\"\""
   ]
  },
  {
   "cell_type": "code",
   "execution_count": 13,
   "metadata": {},
   "outputs": [
    {
     "data": {
      "text/html": [
       "<div>\n",
       "<style scoped>\n",
       "    .dataframe tbody tr th:only-of-type {\n",
       "        vertical-align: middle;\n",
       "    }\n",
       "\n",
       "    .dataframe tbody tr th {\n",
       "        vertical-align: top;\n",
       "    }\n",
       "\n",
       "    .dataframe thead th {\n",
       "        text-align: right;\n",
       "    }\n",
       "</style>\n",
       "<table border=\"1\" class=\"dataframe\">\n",
       "  <thead>\n",
       "    <tr style=\"text-align: right;\">\n",
       "      <th></th>\n",
       "      <th>Unnamed: 0</th>\n",
       "      <th>description</th>\n",
       "      <th>duration</th>\n",
       "      <th>title</th>\n",
       "      <th>url1</th>\n",
       "    </tr>\n",
       "  </thead>\n",
       "  <tbody>\n",
       "    <tr>\n",
       "      <th>132</th>\n",
       "      <td>12</td>\n",
       "      <td>\\nIngrédients : pain de mie,jaune d'oeuf,filet...</td>\n",
       "      <td>25 min</td>\n",
       "      <td>Club sandwich fumé au romarin de Nastasia Thie...</td>\n",
       "      <td>https://www.marmiton.org/https://www.marmiton....</td>\n",
       "    </tr>\n",
       "    <tr>\n",
       "      <th>85</th>\n",
       "      <td>10</td>\n",
       "      <td>\\nIngrédients : pain complet,beurre,vinaigrett...</td>\n",
       "      <td>10 min</td>\n",
       "      <td>Sandwich complet de l'été</td>\n",
       "      <td>https://www.marmiton.org/https://www.marmiton....</td>\n",
       "    </tr>\n",
       "    <tr>\n",
       "      <th>43</th>\n",
       "      <td>13</td>\n",
       "      <td>\\nIngrédients : avocat,thon en boite,baguette ...</td>\n",
       "      <td>10 min</td>\n",
       "      <td>Sandwich de l'été à l'Avocat  et au Thon</td>\n",
       "      <td>https://www.marmiton.org/https://www.marmiton....</td>\n",
       "    </tr>\n",
       "    <tr>\n",
       "      <th>35</th>\n",
       "      <td>5</td>\n",
       "      <td>\\nIngrédients : pain de mie sans croutes,escal...</td>\n",
       "      <td>35 min</td>\n",
       "      <td>Club sandwich poulet crudités</td>\n",
       "      <td>https://www.marmiton.org/https://www.marmiton....</td>\n",
       "    </tr>\n",
       "    <tr>\n",
       "      <th>1</th>\n",
       "      <td>1</td>\n",
       "      <td>\\nIngrédients : pain de mie anglais (le super ...</td>\n",
       "      <td>5 min</td>\n",
       "      <td>Club sandwich poulet - bacon</td>\n",
       "      <td>https://www.marmiton.org/https://www.marmiton....</td>\n",
       "    </tr>\n",
       "  </tbody>\n",
       "</table>\n",
       "</div>"
      ],
      "text/plain": [
       "     Unnamed: 0                                        description duration  \\\n",
       "132          12  \\nIngrédients : pain de mie,jaune d'oeuf,filet...   25 min   \n",
       "85           10  \\nIngrédients : pain complet,beurre,vinaigrett...   10 min   \n",
       "43           13  \\nIngrédients : avocat,thon en boite,baguette ...   10 min   \n",
       "35            5  \\nIngrédients : pain de mie sans croutes,escal...   35 min   \n",
       "1             1  \\nIngrédients : pain de mie anglais (le super ...    5 min   \n",
       "\n",
       "                                                 title  \\\n",
       "132  Club sandwich fumé au romarin de Nastasia Thie...   \n",
       "85                           Sandwich complet de l'été   \n",
       "43            Sandwich de l'été à l'Avocat  et au Thon   \n",
       "35                       Club sandwich poulet crudités   \n",
       "1                         Club sandwich poulet - bacon   \n",
       "\n",
       "                                                  url1  \n",
       "132  https://www.marmiton.org/https://www.marmiton....  \n",
       "85   https://www.marmiton.org/https://www.marmiton....  \n",
       "43   https://www.marmiton.org/https://www.marmiton....  \n",
       "35   https://www.marmiton.org/https://www.marmiton....  \n",
       "1    https://www.marmiton.org/https://www.marmiton....  "
      ]
     },
     "execution_count": 13,
     "metadata": {},
     "output_type": "execute_result"
    }
   ],
   "source": [
    "recommend(fake_input)"
   ]
  },
  {
   "cell_type": "code",
   "execution_count": 14,
   "metadata": {},
   "outputs": [
    {
     "data": {
      "text/plain": [
       "'https://www.marmiton.org/https://www.marmiton.org/recettes/recherche.aspx?aqt=sandwich&start=96&page=9'"
      ]
     },
     "execution_count": 14,
     "metadata": {},
     "output_type": "execute_result"
    }
   ],
   "source": [
    "df['url1'][132]"
   ]
  },
  {
   "cell_type": "code",
   "execution_count": 15,
   "metadata": {},
   "outputs": [
    {
     "data": {
      "text/plain": [
       "\"\\nIngrédients : pain de mie,jaune d'oeuf,filet de poulet,tomate,sucrine,oeuf dur,pancetta,moutarde,huile neutre (type pépin ou tourneso),sel,poivre,romarin,pain de mie,jaune d'oeuf,filet de poulet,tomate,sucrine,oeuf...\\t\\t\""
      ]
     },
     "execution_count": 15,
     "metadata": {},
     "output_type": "execute_result"
    }
   ],
   "source": [
    "df['description'][132]"
   ]
  },
  {
   "cell_type": "code",
   "execution_count": 16,
   "metadata": {},
   "outputs": [
    {
     "data": {
      "text/plain": [
       "'\\nIngrédients : pain complet,beurre,vinaigrette,jambon,dinde ou poulet,tomate,avocat bien mûr,feta,comté ou gruyère,salade,oeuf dur.Tartiner le dessus de 2 tranches de pain avec du beurre.Déposer sur la 1ère et la...\\t\\t'"
      ]
     },
     "execution_count": 16,
     "metadata": {},
     "output_type": "execute_result"
    }
   ],
   "source": [
    "df['description'][85]"
   ]
  },
  {
   "cell_type": "code",
   "execution_count": 17,
   "metadata": {},
   "outputs": [
    {
     "data": {
      "text/plain": [
       "'\\nIngrédients : pain de mie anglais (le super moelleux blanc ou brun),escalope de poulet (ou de dinde extra fine),bacon (poitrine),tomate (en saison),avocat,oeuf dur,salade (laitue, batavia ou iceberg),mayonnaise.Faire...\\t\\t'"
      ]
     },
     "execution_count": 17,
     "metadata": {},
     "output_type": "execute_result"
    }
   ],
   "source": [
    "df['description'][1]"
   ]
  },
  {
   "cell_type": "code",
   "execution_count": 18,
   "metadata": {},
   "outputs": [
    {
     "data": {
      "text/plain": [
       "'https://www.marmiton.org/https://www.marmiton.org/recettes/recherche.aspx?aqt=sandwich&start=24&page=3'"
      ]
     },
     "execution_count": 18,
     "metadata": {},
     "output_type": "execute_result"
    }
   ],
   "source": [
    "df['url1'][35]"
   ]
  },
  {
   "cell_type": "code",
   "execution_count": 21,
   "metadata": {},
   "outputs": [],
   "source": [
    "test = df['title'].str.contains('Sandwich au saumon fumé')"
   ]
  },
  {
   "cell_type": "code",
   "execution_count": null,
   "metadata": {},
   "outputs": [],
   "source": []
  },
  {
   "cell_type": "code",
   "execution_count": null,
   "metadata": {},
   "outputs": [],
   "source": []
  },
  {
   "cell_type": "code",
   "execution_count": null,
   "metadata": {},
   "outputs": [],
   "source": []
  },
  {
   "cell_type": "code",
   "execution_count": null,
   "metadata": {},
   "outputs": [],
   "source": []
  },
  {
   "cell_type": "code",
   "execution_count": null,
   "metadata": {},
   "outputs": [],
   "source": []
  },
  {
   "cell_type": "code",
   "execution_count": null,
   "metadata": {},
   "outputs": [],
   "source": []
  },
  {
   "cell_type": "code",
   "execution_count": null,
   "metadata": {},
   "outputs": [],
   "source": []
  },
  {
   "cell_type": "code",
   "execution_count": null,
   "metadata": {},
   "outputs": [],
   "source": []
  },
  {
   "cell_type": "code",
   "execution_count": null,
   "metadata": {},
   "outputs": [],
   "source": []
  },
  {
   "cell_type": "code",
   "execution_count": null,
   "metadata": {},
   "outputs": [],
   "source": []
  },
  {
   "cell_type": "code",
   "execution_count": null,
   "metadata": {},
   "outputs": [],
   "source": []
  },
  {
   "cell_type": "code",
   "execution_count": null,
   "metadata": {},
   "outputs": [],
   "source": []
  },
  {
   "cell_type": "code",
   "execution_count": null,
   "metadata": {},
   "outputs": [],
   "source": []
  }
 ],
 "metadata": {
  "kernelspec": {
   "display_name": "Python 3",
   "language": "python",
   "name": "python3"
  },
  "language_info": {
   "codemirror_mode": {
    "name": "ipython",
    "version": 3
   },
   "file_extension": ".py",
   "mimetype": "text/x-python",
   "name": "python",
   "nbconvert_exporter": "python",
   "pygments_lexer": "ipython3",
   "version": "3.7.3"
  }
 },
 "nbformat": 4,
 "nbformat_minor": 2
}
